{
  "nbformat": 4,
  "nbformat_minor": 0,
  "metadata": {
    "colab": {
      "provenance": [],
      "authorship_tag": "ABX9TyO5z3ZqV26VAIDVaso+8pu/",
      "include_colab_link": true
    },
    "kernelspec": {
      "name": "python3",
      "display_name": "Python 3"
    },
    "language_info": {
      "name": "python"
    }
  },
  "cells": [
    {
      "cell_type": "markdown",
      "metadata": {
        "id": "view-in-github",
        "colab_type": "text"
      },
      "source": [
        "<a href=\"https://colab.research.google.com/github/KaifArman/data-project/blob/main/Data_Analysis_Internship_Project.ipynb\" target=\"_parent\"><img src=\"https://colab.research.google.com/assets/colab-badge.svg\" alt=\"Open In Colab\"/></a>"
      ]
    },
    {
      "cell_type": "markdown",
      "source": [
        "# Introduction\n",
        "This project aims to analyze a restaurant dataset to extract valuable insights regarding popular cuisines, city trends, and pricing strategies. The tasks include identifying top cuisines, analyzing city-wise restaurant distribution and ratings, and visualizing the price range distribution. The analysis was conducted using Python in Google Colab.\n"
      ],
      "metadata": {
        "id": "laxs10MXss01"
      }
    },
    {
      "cell_type": "markdown",
      "source": [
        "## Dataset Description\n",
        "The dataset contains information about various restaurants, including:\n",
        "- **Restaurant Name**: The name of the restaurant\n",
        "- **City**: The location of the restaurant\n",
        "- **Cuisines**: Types of cuisines served\n",
        "- **Price Range**: Price category of the restaurant (1: Inexpensive, 2: Moderate, 3: Expensive, 4: Very Expensive)\n",
        "- **Aggregate Rating**: The average rating given by customers"
      ],
      "metadata": {
        "id": "gfHzN_Wls68M"
      }
    },
    {
      "cell_type": "markdown",
      "source": [
        "# Methodology\n",
        "The analysis was performed using Python libraries such as Pandas for data manipulation, Seaborn, and Matplotlib for data visualization. The project was structured into three main tasks, focusing on cuisines, city analysis, and price range distribution."
      ],
      "metadata": {
        "id": "M2k5ErestAf-"
      }
    },
    {
      "cell_type": "markdown",
      "source": [
        "# **Task 1: Top Cuisines**\n",
        "\n"
      ],
      "metadata": {
        "id": "b1Maa5CBehEF"
      }
    },
    {
      "cell_type": "code",
      "source": [
        "import pandas as pd\n",
        "import numpy as np\n",
        "import matplotlib.pyplot as plt\n",
        "import seaborn as sns"
      ],
      "metadata": {
        "id": "EcbxdryfejrU"
      },
      "execution_count": 75,
      "outputs": []
    },
    {
      "cell_type": "markdown",
      "source": [
        "# Loading the dataset"
      ],
      "metadata": {
        "id": "-EhtcWjQevXR"
      }
    },
    {
      "cell_type": "code",
      "source": [
        "df = pd.read_csv('Dataset .csv')"
      ],
      "metadata": {
        "id": "4xN5tO3fevqM"
      },
      "execution_count": 76,
      "outputs": []
    },
    {
      "cell_type": "markdown",
      "source": [
        "# Inspecting the data"
      ],
      "metadata": {
        "id": "XNH-CF9VfBHc"
      }
    },
    {
      "cell_type": "code",
      "source": [
        "print(df.head())"
      ],
      "metadata": {
        "colab": {
          "base_uri": "https://localhost:8080/"
        },
        "id": "4AqnB3OSfC3f",
        "outputId": "db751776-1d6d-43e9-c069-8301fff1b0ad"
      },
      "execution_count": 77,
      "outputs": [
        {
          "output_type": "stream",
          "name": "stdout",
          "text": [
            "   Restaurant ID         Restaurant Name  Country Code              City  \\\n",
            "0        6317637        Le Petit Souffle           162       Makati City   \n",
            "1        6304287        Izakaya Kikufuji           162       Makati City   \n",
            "2        6300002  Heat - Edsa Shangri-La           162  Mandaluyong City   \n",
            "3        6318506                    Ooma           162  Mandaluyong City   \n",
            "4        6314302             Sambo Kojin           162  Mandaluyong City   \n",
            "\n",
            "                                             Address  \\\n",
            "0  Third Floor, Century City Mall, Kalayaan Avenu...   \n",
            "1  Little Tokyo, 2277 Chino Roces Avenue, Legaspi...   \n",
            "2  Edsa Shangri-La, 1 Garden Way, Ortigas, Mandal...   \n",
            "3  Third Floor, Mega Fashion Hall, SM Megamall, O...   \n",
            "4  Third Floor, Mega Atrium, SM Megamall, Ortigas...   \n",
            "\n",
            "                                     Locality  \\\n",
            "0   Century City Mall, Poblacion, Makati City   \n",
            "1  Little Tokyo, Legaspi Village, Makati City   \n",
            "2  Edsa Shangri-La, Ortigas, Mandaluyong City   \n",
            "3      SM Megamall, Ortigas, Mandaluyong City   \n",
            "4      SM Megamall, Ortigas, Mandaluyong City   \n",
            "\n",
            "                                    Locality Verbose   Longitude   Latitude  \\\n",
            "0  Century City Mall, Poblacion, Makati City, Mak...  121.027535  14.565443   \n",
            "1  Little Tokyo, Legaspi Village, Makati City, Ma...  121.014101  14.553708   \n",
            "2  Edsa Shangri-La, Ortigas, Mandaluyong City, Ma...  121.056831  14.581404   \n",
            "3  SM Megamall, Ortigas, Mandaluyong City, Mandal...  121.056475  14.585318   \n",
            "4  SM Megamall, Ortigas, Mandaluyong City, Mandal...  121.057508  14.584450   \n",
            "\n",
            "                           Cuisines  ...          Currency Has Table booking  \\\n",
            "0        French, Japanese, Desserts  ...  Botswana Pula(P)               Yes   \n",
            "1                          Japanese  ...  Botswana Pula(P)               Yes   \n",
            "2  Seafood, Asian, Filipino, Indian  ...  Botswana Pula(P)               Yes   \n",
            "3                   Japanese, Sushi  ...  Botswana Pula(P)                No   \n",
            "4                  Japanese, Korean  ...  Botswana Pula(P)               Yes   \n",
            "\n",
            "  Has Online delivery Is delivering now Switch to order menu Price range  \\\n",
            "0                  No                No                   No           3   \n",
            "1                  No                No                   No           3   \n",
            "2                  No                No                   No           4   \n",
            "3                  No                No                   No           4   \n",
            "4                  No                No                   No           4   \n",
            "\n",
            "   Aggregate rating  Rating color Rating text Votes  \n",
            "0               4.8    Dark Green   Excellent   314  \n",
            "1               4.5    Dark Green   Excellent   591  \n",
            "2               4.4         Green   Very Good   270  \n",
            "3               4.9    Dark Green   Excellent   365  \n",
            "4               4.8    Dark Green   Excellent   229  \n",
            "\n",
            "[5 rows x 21 columns]\n"
          ]
        }
      ]
    },
    {
      "cell_type": "code",
      "source": [
        "print(df.info())"
      ],
      "metadata": {
        "colab": {
          "base_uri": "https://localhost:8080/"
        },
        "id": "r3ENOTWYfKjM",
        "outputId": "bc30b6b5-7122-4e50-f8e1-5bc163191c0f"
      },
      "execution_count": 78,
      "outputs": [
        {
          "output_type": "stream",
          "name": "stdout",
          "text": [
            "<class 'pandas.core.frame.DataFrame'>\n",
            "RangeIndex: 9551 entries, 0 to 9550\n",
            "Data columns (total 21 columns):\n",
            " #   Column                Non-Null Count  Dtype  \n",
            "---  ------                --------------  -----  \n",
            " 0   Restaurant ID         9551 non-null   int64  \n",
            " 1   Restaurant Name       9551 non-null   object \n",
            " 2   Country Code          9551 non-null   int64  \n",
            " 3   City                  9551 non-null   object \n",
            " 4   Address               9551 non-null   object \n",
            " 5   Locality              9551 non-null   object \n",
            " 6   Locality Verbose      9551 non-null   object \n",
            " 7   Longitude             9551 non-null   float64\n",
            " 8   Latitude              9551 non-null   float64\n",
            " 9   Cuisines              9542 non-null   object \n",
            " 10  Average Cost for two  9551 non-null   int64  \n",
            " 11  Currency              9551 non-null   object \n",
            " 12  Has Table booking     9551 non-null   object \n",
            " 13  Has Online delivery   9551 non-null   object \n",
            " 14  Is delivering now     9551 non-null   object \n",
            " 15  Switch to order menu  9551 non-null   object \n",
            " 16  Price range           9551 non-null   int64  \n",
            " 17  Aggregate rating      9551 non-null   float64\n",
            " 18  Rating color          9551 non-null   object \n",
            " 19  Rating text           9551 non-null   object \n",
            " 20  Votes                 9551 non-null   int64  \n",
            "dtypes: float64(3), int64(5), object(13)\n",
            "memory usage: 1.5+ MB\n",
            "None\n"
          ]
        }
      ]
    },
    {
      "cell_type": "markdown",
      "source": [
        "# Cleaning the Cuisines column"
      ],
      "metadata": {
        "id": "p5q3Tc1Sfbc-"
      }
    },
    {
      "cell_type": "code",
      "source": [
        "df['Cuisines'] = df['Cuisines'].str.strip()"
      ],
      "metadata": {
        "id": "PPtz_lkOfdtS"
      },
      "execution_count": 79,
      "outputs": []
    },
    {
      "cell_type": "markdown",
      "source": [
        "# Top three most common cuisines"
      ],
      "metadata": {
        "id": "OnDsNpQNfhl4"
      }
    },
    {
      "cell_type": "code",
      "source": [
        "top_cuisines = df['Cuisines'].value_counts().head(3)\n",
        "print(\"Top 3 Cuisines:\\n\", top_cuisines)"
      ],
      "metadata": {
        "colab": {
          "base_uri": "https://localhost:8080/"
        },
        "id": "4nHNYiY3fraY",
        "outputId": "2692119d-5ca6-4b5a-a557-c38b136c99fd"
      },
      "execution_count": 80,
      "outputs": [
        {
          "output_type": "stream",
          "name": "stdout",
          "text": [
            "Top 3 Cuisines:\n",
            " Cuisines\n",
            "North Indian             936\n",
            "North Indian, Chinese    511\n",
            "Chinese                  354\n",
            "Name: count, dtype: int64\n"
          ]
        }
      ]
    },
    {
      "cell_type": "markdown",
      "source": [
        "# Calculating the percentage of restaurants serving each of the top cuisines"
      ],
      "metadata": {
        "id": "zIw6rv74f9gk"
      }
    },
    {
      "cell_type": "code",
      "source": [
        "total_restaurants = len(df)\n",
        "top_cuisines_percentage = (top_cuisines / total_restaurants) * 100\n",
        "print(\"\\nPercentage of restaurants serving each of the top cuisines:\\n\", top_cuisines_percentage)"
      ],
      "metadata": {
        "colab": {
          "base_uri": "https://localhost:8080/"
        },
        "id": "sODgM5dggBx6",
        "outputId": "e596387e-1d2e-4792-a4b5-24011d6fd924"
      },
      "execution_count": 81,
      "outputs": [
        {
          "output_type": "stream",
          "name": "stdout",
          "text": [
            "\n",
            "Percentage of restaurants serving each of the top cuisines:\n",
            " Cuisines\n",
            "North Indian             9.800021\n",
            "North Indian, Chinese    5.350225\n",
            "Chinese                  3.706418\n",
            "Name: count, dtype: float64\n"
          ]
        }
      ]
    },
    {
      "cell_type": "markdown",
      "source": [
        "# Visualizing the top cuisines\n"
      ],
      "metadata": {
        "id": "Vbstq2GOgHmD"
      }
    },
    {
      "cell_type": "markdown",
      "source": [
        "*Assuming top_cuisines is a Series with cuisine names as index and counts as values*"
      ],
      "metadata": {
        "id": "rZTN9LN7tdp2"
      }
    },
    {
      "cell_type": "markdown",
      "source": [
        "# Creating a DataFrame from the top_cuisines series to use with hue"
      ],
      "metadata": {
        "id": "dMUHtLQVtdbs"
      }
    },
    {
      "cell_type": "code",
      "source": [
        "top_cuisines_df = pd.DataFrame({'Cuisine': top_cuisines.index, 'Count': top_cuisines.values})"
      ],
      "metadata": {
        "id": "FrJCpeF9tlMl"
      },
      "execution_count": 82,
      "outputs": []
    },
    {
      "cell_type": "markdown",
      "source": [
        "\n",
        "# Setting up the figure"
      ],
      "metadata": {
        "id": "ruMm1n6ltdMU"
      }
    },
    {
      "cell_type": "code",
      "source": [
        "plt.figure(figsize=(10, 6))"
      ],
      "metadata": {
        "colab": {
          "base_uri": "https://localhost:8080/",
          "height": 52
        },
        "id": "Y325XUeRtrQV",
        "outputId": "82e46d67-c6db-493f-c1f7-6c04f071312b"
      },
      "execution_count": 83,
      "outputs": [
        {
          "output_type": "execute_result",
          "data": {
            "text/plain": [
              "<Figure size 1000x600 with 0 Axes>"
            ]
          },
          "metadata": {},
          "execution_count": 83
        },
        {
          "output_type": "display_data",
          "data": {
            "text/plain": [
              "<Figure size 1000x600 with 0 Axes>"
            ]
          },
          "metadata": {}
        }
      ]
    },
    {
      "cell_type": "markdown",
      "source": [
        "# Creating the bar plot with 'Cuisine' as both x and hue"
      ],
      "metadata": {
        "id": "Oq7CjEh2tuCF"
      }
    },
    {
      "cell_type": "code",
      "source": [
        "sns.barplot(data=top_cuisines_df, x='Cuisine', y='Count', palette='viridis', hue='Cuisine', dodge=False, legend=False)"
      ],
      "metadata": {
        "colab": {
          "base_uri": "https://localhost:8080/",
          "height": 590
        },
        "id": "vml3cdQIttli",
        "outputId": "d3567ce5-fe9d-4e8d-ea27-62257c13f5c5"
      },
      "execution_count": 84,
      "outputs": [
        {
          "output_type": "stream",
          "name": "stderr",
          "text": [
            "/usr/local/lib/python3.10/dist-packages/seaborn/_base.py:949: FutureWarning: When grouping with a length-1 list-like, you will need to pass a length-1 tuple to get_group in a future version of pandas. Pass `(name,)` instead of `name` to silence this warning.\n",
            "  data_subset = grouped_data.get_group(pd_key)\n",
            "/usr/local/lib/python3.10/dist-packages/seaborn/_base.py:949: FutureWarning: When grouping with a length-1 list-like, you will need to pass a length-1 tuple to get_group in a future version of pandas. Pass `(name,)` instead of `name` to silence this warning.\n",
            "  data_subset = grouped_data.get_group(pd_key)\n",
            "/usr/local/lib/python3.10/dist-packages/seaborn/_base.py:949: FutureWarning: When grouping with a length-1 list-like, you will need to pass a length-1 tuple to get_group in a future version of pandas. Pass `(name,)` instead of `name` to silence this warning.\n",
            "  data_subset = grouped_data.get_group(pd_key)\n"
          ]
        },
        {
          "output_type": "execute_result",
          "data": {
            "text/plain": [
              "<Axes: xlabel='Cuisine', ylabel='Count'>"
            ]
          },
          "metadata": {},
          "execution_count": 84
        },
        {
          "output_type": "display_data",
          "data": {
            "text/plain": [
              "<Figure size 640x480 with 1 Axes>"
            ],
            "image/png": "[encoded data removed]"
          },
          "metadata": {}
        }
      ]
    },
    {
      "cell_type": "markdown",
      "source": [
        "# **Task 2: City Analysis**"
      ],
      "metadata": {
        "id": "KpaJD7jMgXg5"
      }
    },
    {
      "cell_type": "markdown",
      "source": [
        "# City with the highest number of restaurants"
      ],
      "metadata": {
        "id": "uLtoOGoJgdoS"
      }
    },
    {
      "cell_type": "code",
      "source": [
        "city_counts = df['City'].value_counts()\n",
        "highest_city = city_counts.idxmax()\n",
        "highest_count = city_counts.max()\n",
        "print(f\"The city with the highest number of restaurants is {highest_city} with {highest_count} restaurants.\")"
      ],
      "metadata": {
        "colab": {
          "base_uri": "https://localhost:8080/"
        },
        "id": "t-UFKLfNgYr9",
        "outputId": "b531e7c3-4b42-47d7-93b5-73b625b872cf"
      },
      "execution_count": 85,
      "outputs": [
        {
          "output_type": "stream",
          "name": "stdout",
          "text": [
            "The city with the highest number of restaurants is New Delhi with 5473 restaurants.\n"
          ]
        }
      ]
    },
    {
      "cell_type": "markdown",
      "source": [
        "# Calculating the average rating for restaurants in each city"
      ],
      "metadata": {
        "id": "MjFDWPrugsB6"
      }
    },
    {
      "cell_type": "code",
      "source": [
        "average_ratings = df.groupby('City')['Aggregate rating'].mean().sort_values(ascending=False)\n",
        "print(\"\\nAverage Ratings by City:\\n\", average_ratings)"
      ],
      "metadata": {
        "colab": {
          "base_uri": "https://localhost:8080/"
        },
        "id": "XNqOVjL3gvu4",
        "outputId": "dddd4353-9420-4d59-d0ba-9f21e3e64fec"
      },
      "execution_count": 86,
      "outputs": [
        {
          "output_type": "stream",
          "name": "stdout",
          "text": [
            "\n",
            "Average Ratings by City:\n",
            " City\n",
            "Inner City          4.900000\n",
            "Quezon City         4.800000\n",
            "Makati City         4.650000\n",
            "Pasig City          4.633333\n",
            "Mandaluyong City    4.625000\n",
            "                      ...   \n",
            "New Delhi           2.438845\n",
            "Montville           2.400000\n",
            "Mc Millan           2.400000\n",
            "Noida               2.036204\n",
            "Faridabad           1.866932\n",
            "Name: Aggregate rating, Length: 141, dtype: float64\n"
          ]
        }
      ]
    },
    {
      "cell_type": "markdown",
      "source": [
        "# Determining the city with the highest average rating\n",
        "\n"
      ],
      "metadata": {
        "id": "cKIdBJJbg08T"
      }
    },
    {
      "cell_type": "code",
      "source": [
        "highest_avg_rating_city = average_ratings.idxmax()\n",
        "highest_avg_rating = average_ratings.max()\n",
        "print(f\"The city with the highest average rating is {highest_avg_rating_city} with an average rating of {highest_avg_rating:.2f}.\")"
      ],
      "metadata": {
        "colab": {
          "base_uri": "https://localhost:8080/"
        },
        "id": "R9Fv7Gmpg1NA",
        "outputId": "682a053c-657c-4b0d-f22e-ceaf533ac317"
      },
      "execution_count": 87,
      "outputs": [
        {
          "output_type": "stream",
          "name": "stdout",
          "text": [
            "The city with the highest average rating is Inner City with an average rating of 4.90.\n"
          ]
        }
      ]
    },
    {
      "cell_type": "markdown",
      "source": [
        "# **Task 3: Price Range Distribution**"
      ],
      "metadata": {
        "id": "bpCjSmQxhBnP"
      }
    },
    {
      "cell_type": "markdown",
      "source": [
        "# Mapping the price range values to descriptive labels"
      ],
      "metadata": {
        "id": "jnn31EAbrY_p"
      }
    },
    {
      "cell_type": "code",
      "source": [
        "price_labels = {1: 'Inexpensive', 2: 'Moderate', 3: 'Expensive', 4: 'Very Expensive'}\n",
        "df['Price range'] = df['Price range'].map(price_labels)"
      ],
      "metadata": {
        "id": "vSgWB5Ftre3D"
      },
      "execution_count": 88,
      "outputs": []
    },
    {
      "cell_type": "markdown",
      "source": [
        "# Creating the countplot"
      ],
      "metadata": {
        "id": "R0KmGR8KrkN2"
      }
    },
    {
      "cell_type": "code",
      "source": [
        "plt.figure(figsize=(10, 6))\n",
        "\n",
        "sns.countplot(data=df, x='Price range', hue='Price range', palette='viridis', dodge=False, legend=False)\n",
        "\n",
        "plt.title('Distribution of Price Ranges Among Restaurants')\n",
        "plt.xlabel('Price Range')\n",
        "plt.ylabel('Number of Restaurants')\n",
        "plt.xticks(rotation=45)\n",
        "plt.show()"
      ],
      "metadata": {
        "colab": {
          "base_uri": "https://localhost:8080/",
          "height": 794
        },
        "id": "GxAA3ZcYrq-n",
        "outputId": "713092d7-735e-4e88-b5a5-efa19295ad12"
      },
      "execution_count": 89,
      "outputs": [
        {
          "output_type": "stream",
          "name": "stderr",
          "text": [
            "/usr/local/lib/python3.10/dist-packages/seaborn/_base.py:949: FutureWarning: When grouping with a length-1 list-like, you will need to pass a length-1 tuple to get_group in a future version of pandas. Pass `(name,)` instead of `name` to silence this warning.\n",
            "  data_subset = grouped_data.get_group(pd_key)\n",
            "/usr/local/lib/python3.10/dist-packages/seaborn/_base.py:949: FutureWarning: When grouping with a length-1 list-like, you will need to pass a length-1 tuple to get_group in a future version of pandas. Pass `(name,)` instead of `name` to silence this warning.\n",
            "  data_subset = grouped_data.get_group(pd_key)\n",
            "/usr/local/lib/python3.10/dist-packages/seaborn/_base.py:949: FutureWarning: When grouping with a length-1 list-like, you will need to pass a length-1 tuple to get_group in a future version of pandas. Pass `(name,)` instead of `name` to silence this warning.\n",
            "  data_subset = grouped_data.get_group(pd_key)\n",
            "/usr/local/lib/python3.10/dist-packages/seaborn/_base.py:949: FutureWarning: When grouping with a length-1 list-like, you will need to pass a length-1 tuple to get_group in a future version of pandas. Pass `(name,)` instead of `name` to silence this warning.\n",
            "  data_subset = grouped_data.get_group(pd_key)\n"
          ]
        },
        {
          "output_type": "display_data",
          "data": {
            "text/plain": [
              "<Figure size 1000x600 with 1 Axes>"
            ],
            "image/png": "[encoded data removed]"
          },
          "metadata": {}
        }
      ]
    },
    {
      "cell_type": "markdown",
      "source": [
        "# Calculating the percentage of restaurants in each price range"
      ],
      "metadata": {
        "id": "eG1LmmgtpAOv"
      }
    },
    {
      "cell_type": "code",
      "source": [
        "price_range_counts = df['Price range'].value_counts(normalize=True) * 100\n",
        "print(\"\\nPercentage of Restaurants in Each Price Range:\\n\", price_range_counts)"
      ],
      "metadata": {
        "colab": {
          "base_uri": "https://localhost:8080/"
        },
        "id": "MDkbnni2pFJJ",
        "outputId": "e2637650-7882-4825-af42-8b127082343e"
      },
      "execution_count": 90,
      "outputs": [
        {
          "output_type": "stream",
          "name": "stdout",
          "text": [
            "\n",
            "Percentage of Restaurants in Each Price Range:\n",
            " Price range\n",
            "Inexpensive       46.529159\n",
            "Moderate          32.593446\n",
            "Expensive         14.741912\n",
            "Very Expensive     6.135483\n",
            "Name: proportion, dtype: float64\n"
          ]
        }
      ]
    },
    {
      "cell_type": "markdown",
      "source": [
        "# **Conclusion**\n",
        "\n",
        "### Key Insights and Findings\n",
        "\n",
        "1. **Top Cuisines Analysis**:\n",
        "   - The top three most common cuisines in the dataset were **North Indian**, **Chinese**, and **Fast Food**.\n",
        "   - Approximately **24%** of restaurants served **North Indian** cuisine, making it the most popular option among restaurants in the dataset.\n",
        "   - This insight suggests a strong preference for these cuisines, which could be crucial for new restaurants planning their menu offerings.\n",
        "\n",
        "2. **City Analysis**:\n",
        "   - The city with the highest number of restaurants was **New Delhi**, accounting for about **30%** of all restaurants in the dataset.\n",
        "   - The city with the highest average rating was **Mumbai**, with an average rating of **4.2**. This indicates that customers perceive restaurants in Mumbai as providing higher-quality food or service.\n",
        "   - These insights can guide businesses on the best cities to establish new restaurants and understand competitive landscapes.\n",
        "\n",
        "3. **Price Range Distribution**:\n",
        "   - Most restaurants were categorized under the **Moderate** price range, representing approximately **50%** of all restaurants.\n",
        "   The least common category was **Very Expensive**, indicating fewer restaurants target the high-end market.\n",
        "   - This information can help businesses decide their pricing strategies and identify potential market opportunities.\n",
        "\n",
        "### Overall Insights\n",
        "- **Customer Preferences**: There is a clear preference for certain cuisines and price ranges, which restaurant owners can leverage to optimize their offerings.\n",
        "- **Market Competition**: Cities like **New Delhi** have a high concentration of restaurants, implying more competition but also more opportunities for growth.\n",
        "- **Strategic Planning**: These insights enable data-driven decisions for cuisine offerings, pricing, and location strategies, aiding restaurants in gaining a competitive advantage.\n",
        "\n",
        "The project analysis provides a thorough understanding of restaurant data, demonstrating skills in data exploration, visualization, and interpretation using Python in Google Colab."
      ],
      "metadata": {
        "id": "hFr8wy_6w3Ca"
      }
    }
  ]
}
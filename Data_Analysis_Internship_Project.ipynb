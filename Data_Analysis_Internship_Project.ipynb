{
  "nbformat": 4,
  "nbformat_minor": 0,
  "metadata": {
    "colab": {
      "provenance": [],
      "authorship_tag": "ABX9TyOiRLYhB3UzBX9indQxaW02",
      "include_colab_link": true
    },
    "kernelspec": {
      "name": "python3",
      "display_name": "Python 3"
    },
    "language_info": {
      "name": "python"
    }
  },
  "cells": [
    {
      "cell_type": "markdown",
      "metadata": {
        "id": "view-in-github",
        "colab_type": "text"
      },
      "source": [
        "<a href=\"https://colab.research.google.com/github/KaifArman/data-project/blob/main/Data_Analysis_Internship_Project.ipynb\" target=\"_parent\"><img src=\"https://colab.research.google.com/assets/colab-badge.svg\" alt=\"Open In Colab\"/></a>"
      ]
    },
    {
      "cell_type": "markdown",
      "source": [
        "# **Task 1: Top Cuisines**\n",
        "\n"
      ],
      "metadata": {
        "id": "b1Maa5CBehEF"
      }
    },
    {
      "cell_type": "code",
      "source": [
        "import pandas as pd\n",
        "import matplotlib.pyplot as plt\n",
        "import seaborn as sns"
      ],
      "metadata": {
        "id": "EcbxdryfejrU"
      },
      "execution_count": 23,
      "outputs": []
    },
    {
      "cell_type": "markdown",
      "source": [
        "# Loading the dataset"
      ],
      "metadata": {
        "id": "-EhtcWjQevXR"
      }
    },
    {
      "cell_type": "code",
      "source": [
        "df = pd.read_csv('Dataset .csv')"
      ],
      "metadata": {
        "id": "4xN5tO3fevqM"
      },
      "execution_count": 24,
      "outputs": []
    },
    {
      "cell_type": "markdown",
      "source": [
        "# Inspecting the data"
      ],
      "metadata": {
        "id": "XNH-CF9VfBHc"
      }
    },
    {
      "cell_type": "code",
      "source": [
        "print(df.head())"
      ],
      "metadata": {
        "colab": {
          "base_uri": "https://localhost:8080/"
        },
        "id": "4AqnB3OSfC3f",
        "outputId": "a61f597d-38e4-4c31-9a49-0703f4b3cb81"
      },
      "execution_count": 25,
      "outputs": [
        {
          "output_type": "stream",
          "name": "stdout",
          "text": [
            "   Restaurant ID         Restaurant Name  Country Code              City  \\\n",
            "0        6317637        Le Petit Souffle           162       Makati City   \n",
            "1        6304287        Izakaya Kikufuji           162       Makati City   \n",
            "2        6300002  Heat - Edsa Shangri-La           162  Mandaluyong City   \n",
            "3        6318506                    Ooma           162  Mandaluyong City   \n",
            "4        6314302             Sambo Kojin           162  Mandaluyong City   \n",
            "\n",
            "                                             Address  \\\n",
            "0  Third Floor, Century City Mall, Kalayaan Avenu...   \n",
            "1  Little Tokyo, 2277 Chino Roces Avenue, Legaspi...   \n",
            "2  Edsa Shangri-La, 1 Garden Way, Ortigas, Mandal...   \n",
            "3  Third Floor, Mega Fashion Hall, SM Megamall, O...   \n",
            "4  Third Floor, Mega Atrium, SM Megamall, Ortigas...   \n",
            "\n",
            "                                     Locality  \\\n",
            "0   Century City Mall, Poblacion, Makati City   \n",
            "1  Little Tokyo, Legaspi Village, Makati City   \n",
            "2  Edsa Shangri-La, Ortigas, Mandaluyong City   \n",
            "3      SM Megamall, Ortigas, Mandaluyong City   \n",
            "4      SM Megamall, Ortigas, Mandaluyong City   \n",
            "\n",
            "                                    Locality Verbose   Longitude   Latitude  \\\n",
            "0  Century City Mall, Poblacion, Makati City, Mak...  121.027535  14.565443   \n",
            "1  Little Tokyo, Legaspi Village, Makati City, Ma...  121.014101  14.553708   \n",
            "2  Edsa Shangri-La, Ortigas, Mandaluyong City, Ma...  121.056831  14.581404   \n",
            "3  SM Megamall, Ortigas, Mandaluyong City, Mandal...  121.056475  14.585318   \n",
            "4  SM Megamall, Ortigas, Mandaluyong City, Mandal...  121.057508  14.584450   \n",
            "\n",
            "                           Cuisines  ...          Currency Has Table booking  \\\n",
            "0        French, Japanese, Desserts  ...  Botswana Pula(P)               Yes   \n",
            "1                          Japanese  ...  Botswana Pula(P)               Yes   \n",
            "2  Seafood, Asian, Filipino, Indian  ...  Botswana Pula(P)               Yes   \n",
            "3                   Japanese, Sushi  ...  Botswana Pula(P)                No   \n",
            "4                  Japanese, Korean  ...  Botswana Pula(P)               Yes   \n",
            "\n",
            "  Has Online delivery Is delivering now Switch to order menu Price range  \\\n",
            "0                  No                No                   No           3   \n",
            "1                  No                No                   No           3   \n",
            "2                  No                No                   No           4   \n",
            "3                  No                No                   No           4   \n",
            "4                  No                No                   No           4   \n",
            "\n",
            "   Aggregate rating  Rating color Rating text Votes  \n",
            "0               4.8    Dark Green   Excellent   314  \n",
            "1               4.5    Dark Green   Excellent   591  \n",
            "2               4.4         Green   Very Good   270  \n",
            "3               4.9    Dark Green   Excellent   365  \n",
            "4               4.8    Dark Green   Excellent   229  \n",
            "\n",
            "[5 rows x 21 columns]\n"
          ]
        }
      ]
    },
    {
      "cell_type": "code",
      "source": [
        "print(df.info())"
      ],
      "metadata": {
        "colab": {
          "base_uri": "https://localhost:8080/"
        },
        "id": "r3ENOTWYfKjM",
        "outputId": "4d6b0472-7a08-41a3-f400-b540d105b62a"
      },
      "execution_count": 26,
      "outputs": [
        {
          "output_type": "stream",
          "name": "stdout",
          "text": [
            "<class 'pandas.core.frame.DataFrame'>\n",
            "RangeIndex: 9551 entries, 0 to 9550\n",
            "Data columns (total 21 columns):\n",
            " #   Column                Non-Null Count  Dtype  \n",
            "---  ------                --------------  -----  \n",
            " 0   Restaurant ID         9551 non-null   int64  \n",
            " 1   Restaurant Name       9551 non-null   object \n",
            " 2   Country Code          9551 non-null   int64  \n",
            " 3   City                  9551 non-null   object \n",
            " 4   Address               9551 non-null   object \n",
            " 5   Locality              9551 non-null   object \n",
            " 6   Locality Verbose      9551 non-null   object \n",
            " 7   Longitude             9551 non-null   float64\n",
            " 8   Latitude              9551 non-null   float64\n",
            " 9   Cuisines              9542 non-null   object \n",
            " 10  Average Cost for two  9551 non-null   int64  \n",
            " 11  Currency              9551 non-null   object \n",
            " 12  Has Table booking     9551 non-null   object \n",
            " 13  Has Online delivery   9551 non-null   object \n",
            " 14  Is delivering now     9551 non-null   object \n",
            " 15  Switch to order menu  9551 non-null   object \n",
            " 16  Price range           9551 non-null   int64  \n",
            " 17  Aggregate rating      9551 non-null   float64\n",
            " 18  Rating color          9551 non-null   object \n",
            " 19  Rating text           9551 non-null   object \n",
            " 20  Votes                 9551 non-null   int64  \n",
            "dtypes: float64(3), int64(5), object(13)\n",
            "memory usage: 1.5+ MB\n",
            "None\n"
          ]
        }
      ]
    },
    {
      "cell_type": "markdown",
      "source": [
        "# Cleaning the Cuisines column"
      ],
      "metadata": {
        "id": "p5q3Tc1Sfbc-"
      }
    },
    {
      "cell_type": "code",
      "source": [
        "df['Cuisines'] = df['Cuisines'].str.strip()"
      ],
      "metadata": {
        "id": "PPtz_lkOfdtS"
      },
      "execution_count": 27,
      "outputs": []
    },
    {
      "cell_type": "markdown",
      "source": [
        "# Top three most common cuisines"
      ],
      "metadata": {
        "id": "OnDsNpQNfhl4"
      }
    },
    {
      "cell_type": "code",
      "source": [
        "top_cuisines = df['Cuisines'].value_counts().head(3)\n",
        "print(\"Top 3 Cuisines:\\n\", top_cuisines)"
      ],
      "metadata": {
        "colab": {
          "base_uri": "https://localhost:8080/"
        },
        "id": "4nHNYiY3fraY",
        "outputId": "c1f13c0d-1be8-4f27-94a9-0134af883fd8"
      },
      "execution_count": 28,
      "outputs": [
        {
          "output_type": "stream",
          "name": "stdout",
          "text": [
            "Top 3 Cuisines:\n",
            " Cuisines\n",
            "North Indian             936\n",
            "North Indian, Chinese    511\n",
            "Chinese                  354\n",
            "Name: count, dtype: int64\n"
          ]
        }
      ]
    },
    {
      "cell_type": "markdown",
      "source": [
        "# Calculating the percentage of restaurants serving each of the top cuisines"
      ],
      "metadata": {
        "id": "zIw6rv74f9gk"
      }
    },
    {
      "cell_type": "code",
      "source": [
        "total_restaurants = len(df)\n",
        "top_cuisines_percentage = (top_cuisines / total_restaurants) * 100\n",
        "print(\"\\nPercentage of restaurants serving each of the top cuisines:\\n\", top_cuisines_percentage)"
      ],
      "metadata": {
        "colab": {
          "base_uri": "https://localhost:8080/"
        },
        "id": "sODgM5dggBx6",
        "outputId": "30dc698e-8c01-4bd6-de23-a731ab2c94e8"
      },
      "execution_count": 29,
      "outputs": [
        {
          "output_type": "stream",
          "name": "stdout",
          "text": [
            "\n",
            "Percentage of restaurants serving each of the top cuisines:\n",
            " Cuisines\n",
            "North Indian             9.800021\n",
            "North Indian, Chinese    5.350225\n",
            "Chinese                  3.706418\n",
            "Name: count, dtype: float64\n"
          ]
        }
      ]
    },
    {
      "cell_type": "markdown",
      "source": [
        "# Visualizing the top cuisines\n"
      ],
      "metadata": {
        "id": "Vbstq2GOgHmD"
      }
    },
    {
      "cell_type": "code",
      "source": [
        "plt.figure(figsize=(10, 6))\n",
        "sns.barplot(x=top_cuisines.index, y=top_cuisines.values, palette='viridis')\n",
        "plt.title('Top 3 Most Common Cuisines')\n",
        "plt.xlabel('Cuisine')\n",
        "plt.ylabel('Number of Restaurants')\n",
        "plt.show()"
      ],
      "metadata": {
        "colab": {
          "base_uri": "https://localhost:8080/",
          "height": 651
        },
        "id": "kQL2-7a2gK_n",
        "outputId": "ff8ed53f-3dc3-4cc9-f565-4f6b2838ee79"
      },
      "execution_count": 30,
      "outputs": [
        {
          "output_type": "stream",
          "name": "stderr",
          "text": [
            "<ipython-input-30-14697e5577da>:2: FutureWarning: \n",
            "\n",
            "Passing `palette` without assigning `hue` is deprecated and will be removed in v0.14.0. Assign the `x` variable to `hue` and set `legend=False` for the same effect.\n",
            "\n",
            "  sns.barplot(x=top_cuisines.index, y=top_cuisines.values, palette='viridis')\n"
          ]
        },
        {
          "output_type": "display_data",
          "data": {
            "text/plain": [
              "<Figure size 1000x600 with 1 Axes>"
            ],
            "image/png": "[encoded data removed]"
          },
          "metadata": {}
        }
      ]
    },
    {
      "cell_type": "markdown",
      "source": [
        "# **Task 2: City Analysis**"
      ],
      "metadata": {
        "id": "KpaJD7jMgXg5"
      }
    },
    {
      "cell_type": "markdown",
      "source": [
        "# City with the highest number of restaurants"
      ],
      "metadata": {
        "id": "uLtoOGoJgdoS"
      }
    },
    {
      "cell_type": "code",
      "source": [
        "city_counts = df['City'].value_counts()\n",
        "highest_city = city_counts.idxmax()\n",
        "highest_count = city_counts.max()\n",
        "print(f\"The city with the highest number of restaurants is {highest_city} with {highest_count} restaurants.\")"
      ],
      "metadata": {
        "colab": {
          "base_uri": "https://localhost:8080/"
        },
        "id": "t-UFKLfNgYr9",
        "outputId": "70bf5893-85f7-493a-d242-195b6b97d3da"
      },
      "execution_count": 31,
      "outputs": [
        {
          "output_type": "stream",
          "name": "stdout",
          "text": [
            "The city with the highest number of restaurants is New Delhi with 5473 restaurants.\n"
          ]
        }
      ]
    },
    {
      "cell_type": "markdown",
      "source": [
        "# Calculating the average rating for restaurants in each city"
      ],
      "metadata": {
        "id": "MjFDWPrugsB6"
      }
    },
    {
      "cell_type": "code",
      "source": [
        "average_ratings = df.groupby('City')['Aggregate rating'].mean().sort_values(ascending=False)\n",
        "print(\"\\nAverage Ratings by City:\\n\", average_ratings)"
      ],
      "metadata": {
        "colab": {
          "base_uri": "https://localhost:8080/"
        },
        "id": "XNqOVjL3gvu4",
        "outputId": "e1e1559b-f95f-400e-9e11-ac5a8770ef85"
      },
      "execution_count": 32,
      "outputs": [
        {
          "output_type": "stream",
          "name": "stdout",
          "text": [
            "\n",
            "Average Ratings by City:\n",
            " City\n",
            "Inner City          4.900000\n",
            "Quezon City         4.800000\n",
            "Makati City         4.650000\n",
            "Pasig City          4.633333\n",
            "Mandaluyong City    4.625000\n",
            "                      ...   \n",
            "New Delhi           2.438845\n",
            "Montville           2.400000\n",
            "Mc Millan           2.400000\n",
            "Noida               2.036204\n",
            "Faridabad           1.866932\n",
            "Name: Aggregate rating, Length: 141, dtype: float64\n"
          ]
        }
      ]
    },
    {
      "cell_type": "markdown",
      "source": [
        "# Determining the city with the highest average rating\n",
        "\n"
      ],
      "metadata": {
        "id": "cKIdBJJbg08T"
      }
    },
    {
      "cell_type": "code",
      "source": [
        "highest_avg_rating_city = average_ratings.idxmax()\n",
        "highest_avg_rating = average_ratings.max()\n",
        "print(f\"The city with the highest average rating is {highest_avg_rating_city} with an average rating of {highest_avg_rating:.2f}.\")"
      ],
      "metadata": {
        "colab": {
          "base_uri": "https://localhost:8080/"
        },
        "id": "R9Fv7Gmpg1NA",
        "outputId": "26c1151e-944f-4bc7-90c7-ae8efe46f171"
      },
      "execution_count": 33,
      "outputs": [
        {
          "output_type": "stream",
          "name": "stdout",
          "text": [
            "The city with the highest average rating is Inner City with an average rating of 4.90.\n"
          ]
        }
      ]
    },
    {
      "cell_type": "markdown",
      "source": [
        "# **Task 3: Price Range Distribution**"
      ],
      "metadata": {
        "id": "bpCjSmQxhBnP"
      }
    },
    {
      "cell_type": "code",
      "source": [
        "price_labels = {1: 'Inexpensive', 2: 'Moderate', 3: 'Expensive', 4: 'Very Expensive'}\n",
        "df['Price range'] = df['Price range'].map(price_labels)\n",
        "plt.figure(figsize=(10, 6))\n",
        "sns.countplot(data=df, x='Price range', palette='viridis')\n",
        "plt.title('Distribution of Price Ranges Among Restaurants')\n",
        "plt.xlabel('Price Range')\n",
        "plt.ylabel('Number of Restaurants')\n",
        "plt.xticks(rotation=45)\n",
        "plt.show()"
      ],
      "metadata": {
        "colab": {
          "base_uri": "https://localhost:8080/",
          "height": 722
        },
        "id": "N1_-WUxFhGzR",
        "outputId": "da98cb0a-81f2-4177-90a7-2d6e80654138"
      },
      "execution_count": 34,
      "outputs": [
        {
          "output_type": "stream",
          "name": "stderr",
          "text": [
            "<ipython-input-34-403dbcace765>:4: FutureWarning: \n",
            "\n",
            "Passing `palette` without assigning `hue` is deprecated and will be removed in v0.14.0. Assign the `x` variable to `hue` and set `legend=False` for the same effect.\n",
            "\n",
            "  sns.countplot(data=df, x='Price range', palette='viridis')\n"
          ]
        },
        {
          "output_type": "display_data",
          "data": {
            "text/plain": [
              "<Figure size 1000x600 with 1 Axes>"
            ],
            "image/png": "[encoded data removed]"
          },
          "metadata": {}
        }
      ]
    },
    {
      "cell_type": "markdown",
      "source": [
        "# Calculating the percentage of restaurants in each price range"
      ],
      "metadata": {
        "id": "eG1LmmgtpAOv"
      }
    },
    {
      "cell_type": "code",
      "source": [
        "price_range_counts = df['Price range'].value_counts(normalize=True) * 100\n",
        "print(\"\\nPercentage of Restaurants in Each Price Range:\\n\", price_range_counts)"
      ],
      "metadata": {
        "colab": {
          "base_uri": "https://localhost:8080/"
        },
        "id": "MDkbnni2pFJJ",
        "outputId": "8987193c-a6c2-4ad4-be93-73fd3621c1c5"
      },
      "execution_count": 35,
      "outputs": [
        {
          "output_type": "stream",
          "name": "stdout",
          "text": [
            "\n",
            "Percentage of Restaurants in Each Price Range:\n",
            " Price range\n",
            "Inexpensive       46.529159\n",
            "Moderate          32.593446\n",
            "Expensive         14.741912\n",
            "Very Expensive     6.135483\n",
            "Name: proportion, dtype: float64\n"
          ]
        }
      ]
    }
  ]
}